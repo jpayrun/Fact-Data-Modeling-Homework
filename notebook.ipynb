{
 "cells": [
  {
   "cell_type": "code",
   "execution_count": 75,
   "metadata": {},
   "outputs": [],
   "source": [
    "import duckdb\n",
    "import pandas as pd\n",
    "from dotenv import dotenv_values\n",
    "import datetime\n",
    "\n",
    "from postgres_connect import PostgresConnection"
   ]
  },
  {
   "cell_type": "code",
   "execution_count": 2,
   "metadata": {},
   "outputs": [],
   "source": [
    "config = dotenv_values()"
   ]
  },
  {
   "cell_type": "code",
   "execution_count": 3,
   "metadata": {},
   "outputs": [],
   "source": [
    "pg = PostgresConnection(config=config)"
   ]
  },
  {
   "cell_type": "code",
   "execution_count": 6,
   "metadata": {},
   "outputs": [
    {
     "name": "stderr",
     "output_type": "stream",
     "text": [
      "/mnt/c/Users/jlpay/Documents/Dev/repos/Fact-Data-Modeling-Homework/postgres_connect.py:40: UserWarning: pandas only supports SQLAlchemy connectable (engine/connection) or database string URI or sqlite3 DBAPI2 connection. Other DBAPI2 objects are not tested. Please consider using SQLAlchemy.\n",
      "  return pd.read_sql(sql, self._connection())\n"
     ]
    }
   ],
   "source": [
    "game_details = pg.read_table('game_details')"
   ]
  },
  {
   "cell_type": "code",
   "execution_count": null,
   "metadata": {},
   "outputs": [
    {
     "data": {
      "text/plain": [
       "┌──────────┬────────────┬───────────────────┬─────────────┬───────────┬─────────────────────┬──────────┬────────────────┬──────────────────────────────────────────┬─────────┬────────┬────────┬────────┬────────┬────────┬─────────┬────────┬────────┬────────┬────────┬────────┬────────┬────────┬────────┬────────┬────────┬────────┬────────┬────────────┬───────┐\n",
       "│ game_id  │  team_id   │ team_abbreviation │  team_city  │ player_id │     player_name     │ nickname │ start_position │                 comment                  │   min   │  fgm   │  fga   │ fg_pct │  fg3m  │  fg3a  │ fg3_pct │  ftm   │  fta   │ ft_pct │  oreb  │  dreb  │  reb   │  ast   │  stl   │  blk   │   TO   │   pf   │  pts   │ plus_minus │  rn   │\n",
       "│  int64   │   int64    │      varchar      │   varchar   │   int64   │       varchar       │ varchar  │    varchar     │                 varchar                  │ varchar │ double │ double │ double │ double │ double │ double  │ double │ double │ double │ double │ double │ double │ double │ double │ double │ double │ double │ double │   double   │ int64 │\n",
       "├──────────┼────────────┼───────────────────┼─────────────┼───────────┼─────────────────────┼──────────┼────────────────┼──────────────────────────────────────────┼─────────┼────────┼────────┼────────┼────────┼────────┼─────────┼────────┼────────┼────────┼────────┼────────┼────────┼────────┼────────┼────────┼────────┼────────┼────────┼────────────┼───────┤\n",
       "│ 11600001 │ 1610612761 │ TOR               │ Toronto     │    201942 │ DeMar DeRozan       │ NULL     │ G              │ NULL                                     │ 19:38   │    3.0 │   11.0 │  0.273 │    0.0 │    0.0 │     0.0 │    5.0 │    8.0 │  0.625 │    0.0 │    1.0 │    1.0 │    3.0 │    2.0 │    0.0 │    0.0 │    1.0 │   11.0 │       -7.0 │     1 │\n",
       "│ 11600001 │ 1610612761 │ TOR               │ Toronto     │    202685 │ Jonas Valanciunas   │ NULL     │ C              │ NULL                                     │ 15:21   │    1.0 │    2.0 │    0.5 │    0.0 │    0.0 │     0.0 │    1.0 │    2.0 │    0.5 │    2.0 │    5.0 │    7.0 │    0.0 │    1.0 │    0.0 │    3.0 │    4.0 │    3.0 │       -1.0 │     1 │\n",
       "│ 11600001 │ 1610612761 │ TOR               │ Toronto     │   1627832 │ Fred VanVleet       │ NULL     │ NULL           │ NULL                                     │ 13:40   │    2.0 │    4.0 │    0.5 │    0.0 │    1.0 │     0.0 │    1.0 │    2.0 │    0.5 │    0.0 │    2.0 │    2.0 │    1.0 │    0.0 │    0.0 │    0.0 │    0.0 │    5.0 │        3.0 │     1 │\n",
       "│ 11600004 │ 1610612743 │ DEN               │ Denver      │    203489 │ Nate Wolters        │ NULL     │ NULL           │ DNP - Coach's Decision                   │ NULL    │   NULL │   NULL │   NULL │   NULL │   NULL │    NULL │   NULL │   NULL │   NULL │   NULL │   NULL │   NULL │   NULL │   NULL │   NULL │   NULL │   NULL │   NULL │       NULL │     1 │\n",
       "│ 11600005 │ 1610612749 │ MIL               │ Milwaukee   │    203521 │ Matthew Dellavedova │ NULL     │ NULL           │ NULL                                     │ 24:21   │    3.0 │    6.0 │    0.5 │    3.0 │    4.0 │    0.75 │    2.0 │    2.0 │    1.0 │    0.0 │    2.0 │    2.0 │    6.0 │    1.0 │    0.0 │    2.0 │    2.0 │   11.0 │       17.0 │     1 │\n",
       "│ 11600005 │ 1610612741 │ CHI               │ Chicago     │   1626171 │ Bobby Portis        │ NULL     │ NULL           │ NULL                                     │ 26:12   │    2.0 │    8.0 │   0.25 │    1.0 │    3.0 │   0.333 │    1.0 │    2.0 │    0.5 │    0.0 │    9.0 │    9.0 │    3.0 │    1.0 │    0.0 │    1.0 │    2.0 │    6.0 │       -8.0 │     1 │\n",
       "│ 11600006 │ 1610612763 │ MEM               │ Memphis     │    201144 │ Mike Conley         │ NULL     │ G              │ NULL                                     │ 17:07   │    3.0 │    7.0 │  0.429 │    0.0 │    2.0 │     0.0 │    4.0 │    5.0 │    0.8 │    0.0 │    0.0 │    0.0 │    2.0 │    3.0 │    0.0 │    0.0 │    1.0 │   10.0 │       -6.0 │     1 │\n",
       "│ 11600006 │ 1610612763 │ MEM               │ Memphis     │    203210 │ JaMychal Green      │ NULL     │ F              │ NULL                                     │ 21:29   │    2.0 │    4.0 │    0.5 │    0.0 │    2.0 │     0.0 │    2.0 │    2.0 │    1.0 │    2.0 │    2.0 │    4.0 │    0.0 │    1.0 │    0.0 │    0.0 │    6.0 │    6.0 │        0.0 │     1 │\n",
       "│ 11600007 │ 1610612756 │ PHX               │ Phoenix     │      2571 │ Leandro Barbosa     │ NULL     │ NULL           │ NULL                                     │ 11:39   │    1.0 │    2.0 │    0.5 │    0.0 │    1.0 │     0.0 │    2.0 │    2.0 │    1.0 │    0.0 │    2.0 │    2.0 │    2.0 │    0.0 │    0.0 │    0.0 │    0.0 │    4.0 │       -1.0 │     1 │\n",
       "│ 11600007 │ 1610612759 │ SAS               │ San Antonio │    201202 │ Joel Anthony        │ NULL     │ NULL           │ NULL                                     │ 27:25   │    4.0 │    7.0 │  0.571 │    0.0 │    0.0 │     0.0 │    0.0 │    0.0 │    0.0 │    1.0 │    2.0 │    3.0 │    0.0 │    1.0 │    4.0 │    3.0 │    1.0 │    8.0 │       -9.0 │     1 │\n",
       "│     ·    │      ·     │  ·                │   ·         │       ·   │      ·              │  ·       │ ·              │  ·                                       │   ·     │     ·  │     ·  │    ·   │     ·  │     ·  │      ·  │     ·  │     ·  │     ·  │     ·  │     ·  │     ·  │     ·  │     ·  │     ·  │     ·  │     ·  │     ·  │         ·  │     · │\n",
       "│     ·    │      ·     │  ·                │   ·         │       ·   │      ·              │  ·       │ ·              │  ·                                       │   ·     │     ·  │     ·  │    ·   │     ·  │     ·  │      ·  │     ·  │     ·  │     ·  │     ·  │     ·  │     ·  │     ·  │     ·  │     ·  │     ·  │     ·  │     ·  │         ·  │     · │\n",
       "│     ·    │      ·     │  ·                │   ·         │       ·   │      ·              │  ·       │ ·              │  ·                                       │   ·     │     ·  │     ·  │    ·   │     ·  │     ·  │      ·  │     ·  │     ·  │     ·  │     ·  │     ·  │     ·  │     ·  │     ·  │     ·  │     ·  │     ·  │     ·  │         ·  │     · │\n",
       "│ 21500922 │ 1610612738 │ BOS               │ Boston      │    203096 │ Jared Sullinger     │ NULL     │ F              │ NULL                                     │ 31:11   │    8.0 │   17.0 │  0.471 │    0.0 │    1.0 │     0.0 │    1.0 │    2.0 │    0.5 │    7.0 │    6.0 │   13.0 │    1.0 │    1.0 │    0.0 │    0.0 │    4.0 │   17.0 │        1.0 │     1 │\n",
       "│ 21500923 │ 1610612752 │ NYK               │ New York    │      2756 │ Sasha Vujacic       │ NULL     │ NULL           │ NULL                                     │ 1:02    │    0.0 │    0.0 │    0.0 │    0.0 │    0.0 │     0.0 │    0.0 │    0.0 │    0.0 │    0.0 │    0.0 │    0.0 │    0.0 │    0.0 │    0.0 │    0.0 │    0.0 │    0.0 │       -2.0 │     1 │\n",
       "│ 21500923 │ 1610612765 │ DET               │ Detroit     │    201202 │ Joel Anthony        │ NULL     │ NULL           │ DNP - Coach's Decision                   │ NULL    │   NULL │   NULL │   NULL │   NULL │   NULL │    NULL │   NULL │   NULL │   NULL │   NULL │   NULL │   NULL │   NULL │   NULL │   NULL │   NULL │   NULL │   NULL │       NULL │     1 │\n",
       "│ 21500923 │ 1610612765 │ DET               │ Detroit     │    202694 │ Marcus Morris Sr.   │ NULL     │ F              │ NULL                                     │ 27:03   │    2.0 │   11.0 │  0.182 │    1.0 │    5.0 │     0.2 │    0.0 │    0.0 │    0.0 │    0.0 │    1.0 │    1.0 │    1.0 │    0.0 │    0.0 │    0.0 │    4.0 │    5.0 │      -15.0 │     1 │\n",
       "│ 21500924 │ 1610612754 │ IND               │ Indiana     │    101139 │ CJ Miles            │ NULL     │ NULL           │ DND - Strained Left Calf                 │ NULL    │   NULL │   NULL │   NULL │   NULL │   NULL │    NULL │   NULL │   NULL │   NULL │   NULL │   NULL │   NULL │   NULL │   NULL │   NULL │   NULL │   NULL │   NULL │       NULL │     1 │\n",
       "│ 21500925 │ 1610612740 │ NOP               │ New Orleans │    201962 │ Toney Douglas       │ NULL     │ NULL           │ NULL                                     │ 18:56   │    3.0 │    8.0 │  0.375 │    3.0 │    4.0 │    0.75 │    0.0 │    0.0 │    0.0 │    0.0 │    1.0 │    1.0 │    0.0 │    0.0 │    0.0 │    0.0 │    3.0 │    9.0 │      -15.0 │     1 │\n",
       "│ 21500925 │ 1610612762 │ UTA               │ Utah        │    202330 │ Gordon Hayward      │ NULL     │ F              │ NULL                                     │ 37:09   │    8.0 │   16.0 │    0.5 │    2.0 │    7.0 │   0.286 │    6.0 │    6.0 │    1.0 │    0.0 │    5.0 │    5.0 │    4.0 │    1.0 │    0.0 │    2.0 │    1.0 │   24.0 │        9.0 │     1 │\n",
       "│ 21500925 │ 1610612740 │ NOP               │ New Orleans │    202708 │ Norris Cole         │ NULL     │ G              │ NULL                                     │ 28:33   │    3.0 │    9.0 │  0.333 │    0.0 │    0.0 │     0.0 │    0.0 │    0.0 │    0.0 │    0.0 │    2.0 │    2.0 │    5.0 │    1.0 │    0.0 │    1.0 │    4.0 │    6.0 │       -3.0 │     1 │\n",
       "│ 21500925 │ 1610612762 │ UTA               │ Utah        │    203526 │ Raul Neto           │ NULL     │ NULL           │ NULL                                     │ 16:23   │    1.0 │    3.0 │  0.333 │    0.0 │    1.0 │     0.0 │    4.0 │    4.0 │    1.0 │    0.0 │    1.0 │    1.0 │    1.0 │    0.0 │    0.0 │    0.0 │    2.0 │    6.0 │       10.0 │     1 │\n",
       "│ 21500926 │ 1610612751 │ BKN               │ Brooklyn    │    203186 │ Willie Reed         │ NULL     │ C              │ NULL                                     │ 31:33   │    5.0 │   11.0 │  0.455 │    0.0 │    0.0 │     0.0 │    4.0 │    5.0 │    0.8 │    5.0 │    3.0 │    8.0 │    3.0 │    0.0 │    4.0 │    0.0 │    2.0 │   14.0 │      -16.0 │     1 │\n",
       "├──────────┴────────────┴───────────────────┴─────────────┴───────────┴─────────────────────┴──────────┴────────────────┴──────────────────────────────────────────┴─────────┴────────┴────────┴────────┴────────┴────────┴─────────┴────────┴────────┴────────┴────────┴────────┴────────┴────────┴────────┴────────┴────────┴────────┴────────┴────────────┴───────┤\n",
       "│ ? rows (>9999 rows, 20 shown)                                                                                                                                                                                                                                                                                                                           30 columns │\n",
       "└────────────────────────────────────────────────────────────────────────────────────────────────────────────────────────────────────────────────────────────────────────────────────────────────────────────────────────────────────────────────────────────────────────────────────────────────────────────────────────────────────────────────────────────────────┘"
      ]
     },
     "execution_count": 15,
     "metadata": {},
     "output_type": "execute_result"
    }
   ],
   "source": [
    "duckdb.sql(\"\"\"\n",
    "           with dupes as (\n",
    "           select\n",
    "            *,\n",
    "            row_number() over (partition by game_id, player_id) rn\n",
    "           from game_details)\n",
    "           \n",
    "           select \n",
    "            * \n",
    "           from dupes \n",
    "           where \n",
    "            rn = 1\"\"\")\n",
    "    "
   ]
  },
  {
   "cell_type": "code",
   "execution_count": 14,
   "metadata": {},
   "outputs": [
    {
     "data": {
      "text/plain": [
       "┌──────────┬────────────┬───────────────────┬───────────┬───────────┬─────────────┬──────────┬────────────────┬─────────┬─────────┬────────┬────────┬────────┬────────┬────────┬─────────┬────────┬────────┬────────┬────────┬────────┬────────┬────────┬────────┬────────┬────────┬────────┬────────┬────────────┐\n",
       "│ game_id  │  team_id   │ team_abbreviation │ team_city │ player_id │ player_name │ nickname │ start_position │ comment │   min   │  fgm   │  fga   │ fg_pct │  fg3m  │  fg3a  │ fg3_pct │  ftm   │  fta   │ ft_pct │  oreb  │  dreb  │  reb   │  ast   │  stl   │  blk   │   TO   │   pf   │  pts   │ plus_minus │\n",
       "│  int64   │   int64    │      varchar      │  varchar  │   int64   │   varchar   │ varchar  │    varchar     │ varchar │ varchar │ double │ double │ double │ double │ double │ double  │ double │ double │ double │ double │ double │ double │ double │ double │ double │ double │ double │ double │   double   │\n",
       "├──────────┼────────────┼───────────────────┼───────────┼───────────┼─────────────┼──────────┼────────────────┼─────────┼─────────┼────────┼────────┼────────┼────────┼────────┼─────────┼────────┼────────┼────────┼────────┼────────┼────────┼────────┼────────┼────────┼────────┼────────┼────────┼────────────┤\n",
       "│ 22000043 │ 1610612762 │ UTA               │ Utah      │    201144 │ Mike Conley │ NULL     │ G              │ NULL    │ 32:22   │    8.0 │   15.0 │  0.533 │    2.0 │    6.0 │   0.333 │    2.0 │    2.0 │    1.0 │    3.0 │    7.0 │   10.0 │    9.0 │    1.0 │    1.0 │    2.0 │    3.0 │   20.0 │        1.0 │\n",
       "└──────────┴────────────┴───────────────────┴───────────┴───────────┴─────────────┴──────────┴────────────────┴─────────┴─────────┴────────┴────────┴────────┴────────┴────────┴─────────┴────────┴────────┴────────┴────────┴────────┴────────┴────────┴────────┴────────┴────────┴────────┴────────┴────────────┘"
      ]
     },
     "execution_count": 14,
     "metadata": {},
     "output_type": "execute_result"
    }
   ],
   "source": [
    "duckdb.sql(\"\"\"\n",
    "select\n",
    "    distinct *\n",
    "from game_details\n",
    "where\n",
    "    game_id = 22000043   \n",
    "    and player_id = 201144 \n",
    "\"\"\")"
   ]
  },
  {
   "cell_type": "code",
   "execution_count": 70,
   "metadata": {},
   "outputs": [],
   "source": [
    "df = pg.read_table('devices')"
   ]
  },
  {
   "cell_type": "code",
   "execution_count": 45,
   "metadata": {},
   "outputs": [
    {
     "data": {
      "text/html": [
       "<div>\n",
       "<style scoped>\n",
       "    .dataframe tbody tr th:only-of-type {\n",
       "        vertical-align: middle;\n",
       "    }\n",
       "\n",
       "    .dataframe tbody tr th {\n",
       "        vertical-align: top;\n",
       "    }\n",
       "\n",
       "    .dataframe thead th {\n",
       "        text-align: right;\n",
       "    }\n",
       "</style>\n",
       "<table border=\"1\" class=\"dataframe\">\n",
       "  <thead>\n",
       "    <tr style=\"text-align: right;\">\n",
       "      <th></th>\n",
       "      <th>url</th>\n",
       "      <th>referrer</th>\n",
       "      <th>user_id</th>\n",
       "      <th>device_id</th>\n",
       "      <th>host</th>\n",
       "      <th>event_time</th>\n",
       "    </tr>\n",
       "  </thead>\n",
       "  <tbody>\n",
       "    <tr>\n",
       "      <th>0</th>\n",
       "      <td>/</td>\n",
       "      <td>None</td>\n",
       "      <td>NaN</td>\n",
       "      <td>9.906757e+18</td>\n",
       "      <td>www.zachwilson.tech</td>\n",
       "      <td>2023-01-09 11:55:28.032000</td>\n",
       "    </tr>\n",
       "    <tr>\n",
       "      <th>1</th>\n",
       "      <td>/</td>\n",
       "      <td>None</td>\n",
       "      <td>1.664713e+19</td>\n",
       "      <td>9.906757e+18</td>\n",
       "      <td>www.zachwilson.tech</td>\n",
       "      <td>2023-01-09 20:10:27.610000</td>\n",
       "    </tr>\n",
       "    <tr>\n",
       "      <th>2</th>\n",
       "      <td>/</td>\n",
       "      <td>None</td>\n",
       "      <td>NaN</td>\n",
       "      <td>1.204839e+19</td>\n",
       "      <td>admin.zachwilson.tech</td>\n",
       "      <td>2023-01-10 04:43:49.204000</td>\n",
       "    </tr>\n",
       "    <tr>\n",
       "      <th>3</th>\n",
       "      <td>/</td>\n",
       "      <td>None</td>\n",
       "      <td>NaN</td>\n",
       "      <td>1.204839e+19</td>\n",
       "      <td>www.zachwilson.tech</td>\n",
       "      <td>2023-01-14 05:25:03.497000</td>\n",
       "    </tr>\n",
       "    <tr>\n",
       "      <th>4</th>\n",
       "      <td>/</td>\n",
       "      <td>None</td>\n",
       "      <td>NaN</td>\n",
       "      <td>1.204839e+19</td>\n",
       "      <td>www.zachwilson.tech</td>\n",
       "      <td>2023-01-14 05:25:04.305000</td>\n",
       "    </tr>\n",
       "  </tbody>\n",
       "</table>\n",
       "</div>"
      ],
      "text/plain": [
       "  url referrer       user_id     device_id                   host  \\\n",
       "0   /     None           NaN  9.906757e+18    www.zachwilson.tech   \n",
       "1   /     None  1.664713e+19  9.906757e+18    www.zachwilson.tech   \n",
       "2   /     None           NaN  1.204839e+19  admin.zachwilson.tech   \n",
       "3   /     None           NaN  1.204839e+19    www.zachwilson.tech   \n",
       "4   /     None           NaN  1.204839e+19    www.zachwilson.tech   \n",
       "\n",
       "                   event_time  \n",
       "0  2023-01-09 11:55:28.032000  \n",
       "1  2023-01-09 20:10:27.610000  \n",
       "2  2023-01-10 04:43:49.204000  \n",
       "3  2023-01-14 05:25:03.497000  \n",
       "4  2023-01-14 05:25:04.305000  "
      ]
     },
     "execution_count": 45,
     "metadata": {},
     "output_type": "execute_result"
    }
   ],
   "source": [
    "df.head()"
   ]
  },
  {
   "cell_type": "code",
   "execution_count": 71,
   "metadata": {},
   "outputs": [],
   "source": [
    "with duckdb.connect('events.db') as con:\n",
    "    con.sql(\"DROP TABLE if EXISTS devices\")\n",
    "    con.sql(\"CREATE TABLE devices (device_id text, browser_type text, device_type text, os_type text)\")\n",
    "    con.sql(\"\"\"\n",
    "insert into devices\n",
    "select device_id, browser_type, device_type, os_type from df\n",
    "\"\"\")"
   ]
  },
  {
   "cell_type": "code",
   "execution_count": 68,
   "metadata": {},
   "outputs": [],
   "source": [
    "with duckdb.connect('events.db') as con:\n",
    "    con.sql(\"DROP TABLE IF EXISTS events;\")\n",
    "    con.sql(\"CREATE TABLE events (url text, referrer text, user_id text, device_id text, host text, event_time timestamp)\")\n",
    "    con.sql(\"\"\"\n",
    "insert into events\n",
    "select * from df\n",
    "\"\"\")"
   ]
  },
  {
   "cell_type": "code",
   "execution_count": 33,
   "metadata": {},
   "outputs": [
    {
     "name": "stdout",
     "output_type": "stream",
     "text": [
      "┌─────────────────────────┬─────────────────────────┐\n",
      "│     min(event_time)     │     max(event_time)     │\n",
      "│        timestamp        │        timestamp        │\n",
      "├─────────────────────────┼─────────────────────────┤\n",
      "│ 2023-01-01 00:06:50.079 │ 2023-01-31 23:51:51.685 │\n",
      "└─────────────────────────┴─────────────────────────┘\n",
      "\n"
     ]
    }
   ],
   "source": [
    "with duckdb.connect('events.db') as con:\n",
    "    con.sql(\"select min(event_time), max(event_time) from events\").show()"
   ]
  },
  {
   "cell_type": "code",
   "execution_count": 31,
   "metadata": {},
   "outputs": [
    {
     "name": "stdout",
     "output_type": "stream",
     "text": [
      "┌─────────────────────────────────────────┬────────────────────────────────┬───────────────┬───────────────┬───────────────────────┬─────────────────────────┐\n",
      "│                   url                   │            referrer            │    user_id    │   evice_id    │         host          │       event_time        │\n",
      "│                 varchar                 │            varchar             │     float     │     float     │        varchar        │        timestamp        │\n",
      "├─────────────────────────────────────────┼────────────────────────────────┼───────────────┼───────────────┼───────────────────────┼─────────────────────────┤\n",
      "│ /                                       │ NULL                           │          NULL │  9.906757e+18 │ www.zachwilson.tech   │ 2023-01-09 11:55:28.032 │\n",
      "│ /                                       │ NULL                           │  1.664713e+19 │  9.906757e+18 │ www.zachwilson.tech   │ 2023-01-09 20:10:27.61  │\n",
      "│ /                                       │ NULL                           │          NULL │ 1.2048389e+19 │ admin.zachwilson.tech │ 2023-01-10 04:43:49.204 │\n",
      "│ /                                       │ NULL                           │          NULL │ 1.2048389e+19 │ www.zachwilson.tech   │ 2023-01-14 05:25:03.497 │\n",
      "│ /                                       │ NULL                           │          NULL │ 1.2048389e+19 │ www.zachwilson.tech   │ 2023-01-14 05:25:04.305 │\n",
      "│ /                                       │ NULL                           │          NULL │ 1.2048389e+19 │ www.zachwilson.tech   │ 2023-01-14 05:44:51.848 │\n",
      "│ /?author=4                              │ NULL                           │          NULL │ 8.3007636e+18 │ www.zachwilson.tech   │ 2023-01-22 10:29:17.735 │\n",
      "│ /?author=5                              │ NULL                           │   2.85403e+18 │ 8.3007636e+18 │ www.zachwilson.tech   │ 2023-01-22 10:29:19.083 │\n",
      "│ /                                       │ NULL                           │ 7.2215506e+18 │ 5.2073355e+17 │ www.zachwilson.tech   │ 2023-01-21 23:59:01.355 │\n",
      "│ /robots.txt                             │ NULL                           │          NULL │          NULL │ www.eczachly.com      │ 2023-01-22 00:04:54.058 │\n",
      "│ ·                                       │  ·                             │            ·  │            ·  │        ·              │            ·            │\n",
      "│ ·                                       │  ·                             │            ·  │            ·  │        ·              │            ·            │\n",
      "│ ·                                       │  ·                             │            ·  │            ·  │        ·              │            ·            │\n",
      "│ /                                       │ NULL                           │          NULL │  8.405258e+18 │ www.zachwilson.tech   │ 2023-01-07 08:01:08.876 │\n",
      "│ /                                       │ https://www.google.com/        │ 1.1846314e+19 │  2.602625e+18 │ www.zachwilson.tech   │ 2023-01-07 08:07:20.064 │\n",
      "│ /                                       │ NULL                           │ 5.1734474e+18 │ 1.0598708e+19 │ www.zachwilson.tech   │ 2023-01-07 08:29:09.957 │\n",
      "│ /                                       │ https://www.google.co.in/      │          NULL │ 6.9990375e+17 │ www.zachwilson.tech   │ 2023-01-07 08:34:23.754 │\n",
      "│ /robots.txt                             │ NULL                           │          NULL │   6.01821e+18 │ www.eczachly.com      │ 2023-01-07 08:53:28.172 │\n",
      "│ /about                                  │ NULL                           │ 1.5644649e+18 │  4.974674e+17 │ www.eczachly.com      │ 2023-01-07 08:54:18.32  │\n",
      "│ /.well-known/apple-app-site-association │ https://www.eczachly.com/about │ 1.5644649e+18 │  4.974674e+17 │ www.eczachly.com      │ 2023-01-07 08:54:42.823 │\n",
      "│ /robots.txt                             │ https://www.eczachly.com/about │ 1.5644649e+18 │  4.974674e+17 │ www.eczachly.com      │ 2023-01-07 08:54:46.129 │\n",
      "│ /.well-known/apple-app-site-association │ https://www.eczachly.com/about │ 1.5644649e+18 │  4.974674e+17 │ www.eczachly.com      │ 2023-01-07 08:54:47.058 │\n",
      "│ /.well-known/security.txt               │ https://www.eczachly.com/about │ 1.5644649e+18 │  4.974674e+17 │ www.eczachly.com      │ 2023-01-07 08:54:47.086 │\n",
      "├─────────────────────────────────────────┴────────────────────────────────┴───────────────┴───────────────┴───────────────────────┴─────────────────────────┤\n",
      "│ ? rows (>9999 rows, 20 shown)                                                                                                                    6 columns │\n",
      "└────────────────────────────────────────────────────────────────────────────────────────────────────────────────────────────────────────────────────────────┘\n",
      "\n"
     ]
    }
   ],
   "source": [
    "with duckdb.connect('events.db') as con:\n",
    "    con.sql(\"select * from events\").show()"
   ]
  },
  {
   "cell_type": "code",
   "execution_count": 51,
   "metadata": {},
   "outputs": [
    {
     "name": "stdout",
     "output_type": "stream",
     "text": [
      "┌──────────────┬──────────┬───────────────┬───────────────┬─────────────────────┬─────────────────────────┬───────────────┬────────────────┬─────────────┬──────────┐\n",
      "│     url      │ referrer │    user_id    │   device_id   │        host         │       event_time        │   device_id   │  browser_type  │ device_type │ os_type  │\n",
      "│   varchar    │ varchar  │     float     │     float     │       varchar       │        timestamp        │     float     │    varchar     │   varchar   │ varchar  │\n",
      "├──────────────┼──────────┼───────────────┼───────────────┼─────────────────────┼─────────────────────────┼───────────────┼────────────────┼─────────────┼──────────┤\n",
      "│ /            │ NULL     │  1.664713e+19 │  9.906757e+18 │ www.zachwilson.tech │ 2023-01-09 20:10:27.61  │  8.971692e+18 │ Chrome         │ Other       │ Mac OS X │\n",
      "│ /            │ NULL     │  1.664713e+19 │  9.906757e+18 │ www.zachwilson.tech │ 2023-01-09 20:10:27.61  │ 2.5693874e+18 │ FacebookBot    │ Spider      │ Other    │\n",
      "│ /            │ NULL     │  1.664713e+19 │  9.906757e+18 │ www.zachwilson.tech │ 2023-01-09 20:10:27.61  │ 1.0598708e+19 │ Googlebot      │ Spider      │ Other    │\n",
      "│ /            │ NULL     │  1.664713e+19 │  9.906757e+18 │ www.zachwilson.tech │ 2023-01-09 20:10:27.61  │ 1.1695411e+19 │ Googlebot      │ Spider      │ Android  │\n",
      "│ /            │ NULL     │  1.664713e+19 │  9.906757e+18 │ www.zachwilson.tech │ 2023-01-09 20:10:27.61  │ 7.2800193e+18 │ Mobile Safari  │ iPhone      │ iOS      │\n",
      "│ /            │ NULL     │  1.664713e+19 │  9.906757e+18 │ www.zachwilson.tech │ 2023-01-09 20:10:27.61  │ 1.2048389e+19 │ Other          │ Other       │ Other    │\n",
      "│ /            │ NULL     │  1.664713e+19 │  9.906757e+18 │ www.zachwilson.tech │ 2023-01-09 20:10:27.61  │ 1.7040123e+19 │ FacebookBot    │ Spider      │ Mac OS X │\n",
      "│ /            │ NULL     │  1.664713e+19 │  9.906757e+18 │ www.zachwilson.tech │ 2023-01-09 20:10:27.61  │ 1.5188517e+19 │ Mobile Safari  │ iPhone      │ iOS      │\n",
      "│ /            │ NULL     │  1.664713e+19 │  9.906757e+18 │ www.zachwilson.tech │ 2023-01-09 20:10:27.61  │ 1.7119362e+19 │ Facebook       │ iPhone      │ iOS      │\n",
      "│ /            │ NULL     │  1.664713e+19 │  9.906757e+18 │ www.zachwilson.tech │ 2023-01-09 20:10:27.61  │  7.171968e+18 │ Opera          │ Other       │ Mac OS X │\n",
      "│ ·            │  ·       │        ·      │        ·      │        ·            │           ·             │        ·      │   ·            │   ·         │    ·     │\n",
      "│ ·            │  ·       │        ·      │        ·      │        ·            │           ·             │        ·      │   ·            │   ·         │    ·     │\n",
      "│ ·            │  ·       │        ·      │        ·      │        ·            │           ·             │        ·      │   ·            │   ·         │    ·     │\n",
      "│ /app-ads.txt │ NULL     │ 1.5027851e+19 │ 6.4495675e+18 │ www.eczachly.com    │ 2023-01-22 00:05:04.319 │ 1.4655212e+19 │ Chrome         │ Other       │ Windows  │\n",
      "│ /app-ads.txt │ NULL     │ 1.5027851e+19 │ 6.4495675e+18 │ www.eczachly.com    │ 2023-01-22 00:05:04.319 │ 4.2184993e+18 │ HeadlessChrome │ Other       │ Linux    │\n",
      "│ /app-ads.txt │ NULL     │ 1.5027851e+19 │ 6.4495675e+18 │ www.eczachly.com    │ 2023-01-22 00:05:04.319 │ 3.9716473e+17 │ Chrome Mobile  │ Nexus 5     │ Android  │\n",
      "│ /app-ads.txt │ NULL     │ 1.5027851e+19 │ 6.4495675e+18 │ www.eczachly.com    │ 2023-01-22 00:05:04.319 │ 1.0952238e+19 │ Firefox        │ Other       │ Linux    │\n",
      "│ /app-ads.txt │ NULL     │ 1.5027851e+19 │ 6.4495675e+18 │ www.eczachly.com    │ 2023-01-22 00:05:04.319 │ 1.8497006e+18 │ HeadlessChrome │ Other       │ Linux    │\n",
      "│ /app-ads.txt │ NULL     │ 1.5027851e+19 │ 6.4495675e+18 │ www.eczachly.com    │ 2023-01-22 00:05:04.319 │ 1.5436142e+19 │ Chrome         │ Other       │ Mac OS X │\n",
      "│ /app-ads.txt │ NULL     │ 1.5027851e+19 │ 6.4495675e+18 │ www.eczachly.com    │ 2023-01-22 00:05:04.319 │ 1.1642209e+19 │ Chrome         │ Other       │ Windows  │\n",
      "│ /app-ads.txt │ NULL     │ 1.5027851e+19 │ 6.4495675e+18 │ www.eczachly.com    │ 2023-01-22 00:05:04.319 │ 1.4873137e+19 │ Firefox        │ Other       │ Mac OS X │\n",
      "│ /app-ads.txt │ NULL     │ 1.5027851e+19 │ 6.4495675e+18 │ www.eczachly.com    │ 2023-01-22 00:05:04.319 │ 1.0911556e+19 │ Firefox        │ Other       │ Linux    │\n",
      "│ /app-ads.txt │ NULL     │ 1.5027851e+19 │ 6.4495675e+18 │ www.eczachly.com    │ 2023-01-22 00:05:04.319 │  8.546856e+18 │ Chrome         │ Other       │ Mac OS X │\n",
      "├──────────────┴──────────┴───────────────┴───────────────┴─────────────────────┴─────────────────────────┴───────────────┴────────────────┴─────────────┴──────────┤\n",
      "│ ? rows (>9999 rows, 20 shown)                                                                                                                          10 columns │\n",
      "└───────────────────────────────────────────────────────────────────────────────────────────────────────────────────────────────────────────────────────────────────┘\n",
      "\n"
     ]
    }
   ],
   "source": [
    "with duckdb.connect('events.db') as con:\n",
    "    con.sql(\"\"\"select \n",
    "                * \n",
    "            from events e\n",
    "            join devices d\n",
    "                on e.device_id = e.device_id\n",
    "            where\n",
    "                e.user_id is not null\"\"\").show()"
   ]
  },
  {
   "cell_type": "code",
   "execution_count": 60,
   "metadata": {},
   "outputs": [
    {
     "name": "stdout",
     "output_type": "stream",
     "text": [
      "┌─────────┬───────────┬──────────────┬───────┐\n",
      "│ user_id │ device_id │ browser_type │ total │\n",
      "│  float  │   float   │   varchar    │ int64 │\n",
      "├─────────┴───────────┴──────────────┴───────┤\n",
      "│                   0 rows                   │\n",
      "└────────────────────────────────────────────┘\n",
      "\n"
     ]
    }
   ],
   "source": [
    "with duckdb.connect('events.db') as con:\n",
    "    con.sql(\"\"\"\n",
    "            with daily as (\n",
    "            select \n",
    "                e.user_id,\n",
    "                d.device_id,\n",
    "                d.browser_type,\n",
    "                count(*) total\n",
    "            from events e\n",
    "            join devices d\n",
    "                on e.device_id = e.device_id\n",
    "            where\n",
    "                e.user_id is not null\n",
    "                and e.event_time::Date  = '2023/1/1'\n",
    "            group by all)\n",
    "            \n",
    "            select * from daily\n",
    "            where total = 1\"\"\").show()"
   ]
  },
  {
   "cell_type": "code",
   "execution_count": null,
   "metadata": {},
   "outputs": [
    {
     "ename": "InvalidInputException",
     "evalue": "Invalid Input Error: Invalid map argument(s). Valid map arguments are a list of key-value pairs (MAP {'key1': 'val1', ...}), two lists (MAP ([1, 2], [10, 11])), or no arguments.",
     "output_type": "error",
     "traceback": [
      "\u001b[0;31m---------------------------------------------------------------------------\u001b[0m",
      "\u001b[0;31mInvalidInputException\u001b[0m                     Traceback (most recent call last)",
      "Cell \u001b[0;32mIn[149], line 1\u001b[0m\n\u001b[0;32m----> 1\u001b[0m \u001b[38;5;28;01mwith\u001b[39;00m duckdb\u001b[38;5;241m.\u001b[39mconnect(\u001b[38;5;124m'\u001b[39m\u001b[38;5;124mevents.db\u001b[39m\u001b[38;5;124m'\u001b[39m) \u001b[38;5;28;01mas\u001b[39;00m con:\n\u001b[1;32m      2\u001b[0m     \u001b[38;5;66;03m# con.sql(\"drop table if exists user_devices_cumulated\")\u001b[39;00m\n\u001b[1;32m      3\u001b[0m     \u001b[38;5;66;03m# con.sql(\"create table user_devices_cumulated (userid text, browser_dates map(text, date))\")\u001b[39;00m\n\u001b[1;32m      4\u001b[0m     con\u001b[38;5;241m.\u001b[39msql(\u001b[38;5;124m\"\"\"\u001b[39m\n\u001b[1;32m      5\u001b[0m \u001b[38;5;124mwith today_dupe as (\u001b[39m\n\u001b[1;32m      6\u001b[0m \u001b[38;5;124mselect\u001b[39m\n\u001b[0;32m   (...)\u001b[0m\n\u001b[1;32m     45\u001b[0m \u001b[38;5;124mselect *, map(browser_count) from joined\u001b[39m\n\u001b[1;32m     46\u001b[0m \u001b[38;5;124m \u001b[39m\u001b[38;5;124m\"\"\"\u001b[39m)\u001b[38;5;241m.\u001b[39mshow()\n",
      "Cell \u001b[0;32mIn[149], line 4\u001b[0m\n\u001b[1;32m      1\u001b[0m \u001b[38;5;28;01mwith\u001b[39;00m duckdb\u001b[38;5;241m.\u001b[39mconnect(\u001b[38;5;124m'\u001b[39m\u001b[38;5;124mevents.db\u001b[39m\u001b[38;5;124m'\u001b[39m) \u001b[38;5;28;01mas\u001b[39;00m con:\n\u001b[1;32m      2\u001b[0m     \u001b[38;5;66;03m# con.sql(\"drop table if exists user_devices_cumulated\")\u001b[39;00m\n\u001b[1;32m      3\u001b[0m     \u001b[38;5;66;03m# con.sql(\"create table user_devices_cumulated (userid text, browser_dates map(text, date))\")\u001b[39;00m\n\u001b[0;32m----> 4\u001b[0m     \u001b[43mcon\u001b[49m\u001b[38;5;241;43m.\u001b[39;49m\u001b[43msql\u001b[49m\u001b[43m(\u001b[49m\u001b[38;5;124;43m\"\"\"\u001b[39;49m\n\u001b[1;32m      5\u001b[0m \u001b[38;5;124;43mwith today_dupe as (\u001b[39;49m\n\u001b[1;32m      6\u001b[0m \u001b[38;5;124;43mselect\u001b[39;49m\n\u001b[1;32m      7\u001b[0m \u001b[38;5;124;43m    e.user_id,\u001b[39;49m\n\u001b[1;32m      8\u001b[0m \u001b[38;5;124;43m    d.device_id,\u001b[39;49m\n\u001b[1;32m      9\u001b[0m \u001b[38;5;124;43m    d.browser_type,\u001b[39;49m\n\u001b[1;32m     10\u001b[0m \u001b[38;5;124;43m    row_number() over (partition by e.user_id, d.device_id) rn\u001b[39;49m\n\u001b[1;32m     11\u001b[0m \u001b[38;5;124;43mfrom events e\u001b[39;49m\n\u001b[1;32m     12\u001b[0m \u001b[38;5;124;43m    left join devices d \u001b[39;49m\n\u001b[1;32m     13\u001b[0m \u001b[38;5;124;43m        on d.device_id = e.device_id\u001b[39;49m\n\u001b[1;32m     14\u001b[0m \u001b[38;5;124;43mwhere\u001b[39;49m\n\u001b[1;32m     15\u001b[0m \u001b[38;5;124;43m    user_id is not null\u001b[39;49m\n\u001b[1;32m     16\u001b[0m \u001b[38;5;124;43m            and event_time::date = \u001b[39;49m\u001b[38;5;124;43m'\u001b[39;49m\u001b[38;5;124;43m2023/1/1/\u001b[39;49m\u001b[38;5;124;43m'\u001b[39;49m\u001b[38;5;124;43m),\u001b[39;49m\n\u001b[1;32m     17\u001b[0m \u001b[38;5;124;43mtoday as (\u001b[39;49m\n\u001b[1;32m     18\u001b[0m \u001b[38;5;124;43mselect\u001b[39;49m\n\u001b[1;32m     19\u001b[0m \u001b[38;5;124;43m    *\u001b[39;49m\n\u001b[1;32m     20\u001b[0m \u001b[38;5;124;43mfrom today_dupe\u001b[39;49m\n\u001b[1;32m     21\u001b[0m \u001b[38;5;124;43mwhere\u001b[39;49m\n\u001b[1;32m     22\u001b[0m \u001b[38;5;124;43m    rn = 1), mapped_cols as (\u001b[39;49m\n\u001b[1;32m     23\u001b[0m \u001b[38;5;124;43mselect\u001b[39;49m\n\u001b[1;32m     24\u001b[0m \u001b[38;5;124;43m    user_id,\u001b[39;49m\n\u001b[1;32m     25\u001b[0m \u001b[38;5;124;43m    MAP \u001b[39;49m\u001b[38;5;124;43m{\u001b[39;49m\u001b[38;5;124;43m browser_type: 1 } as browser_count\u001b[39;49m\n\u001b[1;32m     26\u001b[0m \u001b[38;5;124;43mfrom today\u001b[39;49m\n\u001b[1;32m     27\u001b[0m \u001b[38;5;124;43mwhere\u001b[39;49m\n\u001b[1;32m     28\u001b[0m \u001b[38;5;124;43m    browser_type is not null),\u001b[39;49m\n\u001b[1;32m     29\u001b[0m \u001b[38;5;124;43mjoined as (\u001b[39;49m\n\u001b[1;32m     30\u001b[0m \u001b[38;5;124;43m            \u001b[39;49m\n\u001b[1;32m     31\u001b[0m \u001b[38;5;124;43mselect\u001b[39;49m\n\u001b[1;32m     32\u001b[0m \u001b[38;5;124;43m    mc1.user_id,\u001b[39;49m\n\u001b[1;32m     33\u001b[0m \u001b[38;5;124;43m    mc1.browser_count || mc2.browser_count as browser_count,\u001b[39;49m\n\u001b[1;32m     34\u001b[0m \u001b[38;5;124;43m    mc1.browser_count,\u001b[39;49m\n\u001b[1;32m     35\u001b[0m \u001b[38;5;124;43m    mc2.browser_count,\u001b[39;49m\n\u001b[1;32m     36\u001b[0m \u001b[38;5;124;43m    /*case\u001b[39;49m\n\u001b[1;32m     37\u001b[0m \u001b[38;5;124;43m        when mc2.browser_count is not null then mc1.browser_count := mc2.browser_count\u001b[39;49m\n\u001b[1;32m     38\u001b[0m \u001b[38;5;124;43m    end browser_count*/\u001b[39;49m\n\u001b[1;32m     39\u001b[0m \u001b[38;5;124;43mfrom mapped_cols mc1\u001b[39;49m\n\u001b[1;32m     40\u001b[0m \u001b[38;5;124;43m    join mapped_cols mc2\u001b[39;49m\n\u001b[1;32m     41\u001b[0m \u001b[38;5;124;43m        on mc1.user_id = mc2.user_id\u001b[39;49m\n\u001b[1;32m     42\u001b[0m \u001b[38;5;124;43m        and mc1.browser_count <> mc2.browser_count\u001b[39;49m\n\u001b[1;32m     43\u001b[0m \u001b[38;5;124;43m        and mc1.browser_count is not null)\u001b[39;49m\n\u001b[1;32m     44\u001b[0m \u001b[38;5;124;43m            \u001b[39;49m\n\u001b[1;32m     45\u001b[0m \u001b[38;5;124;43mselect *, map(browser_count) from joined\u001b[39;49m\n\u001b[1;32m     46\u001b[0m \u001b[38;5;124;43m \u001b[39;49m\u001b[38;5;124;43m\"\"\"\u001b[39;49m\u001b[43m)\u001b[49m\u001b[38;5;241m.\u001b[39mshow()\n",
      "\u001b[0;31mInvalidInputException\u001b[0m: Invalid Input Error: Invalid map argument(s). Valid map arguments are a list of key-value pairs (MAP {'key1': 'val1', ...}), two lists (MAP ([1, 2], [10, 11])), or no arguments."
     ]
    }
   ],
   "source": [
    "with duckdb.connect('events.db') as con:\n",
    "    # con.sql(\"drop table if exists user_devices_cumulated\")\n",
    "    # con.sql(\"create table user_devices_cumulated (userid text, browser_dates map(text, date))\")\n",
    "    con.sql(\"\"\"\n",
    "with today_dupe as (\n",
    "select\n",
    "    e.user_id,\n",
    "    d.device_id,\n",
    "    d.browser_type,\n",
    "    row_number() over (partition by e.user_id, d.device_id) rn\n",
    "from events e\n",
    "    left join devices d \n",
    "        on d.device_id = e.device_id\n",
    "where\n",
    "    user_id is not null\n",
    "            and event_time::date = '2023/1/1/'),\n",
    "today as (\n",
    "select\n",
    "    *\n",
    "from today_dupe\n",
    "where\n",
    "    rn = 1), mapped_cols as (\n",
    "select\n",
    "    user_id,\n",
    "    MAP { browser_type: 1 } as browser_count\n",
    "from today\n",
    "where\n",
    "    browser_type is not null),\n",
    "joined as (\n",
    "            \n",
    "select\n",
    "    mc1.user_id,\n",
    "    mc1.browser_count || mc2.browser_count as browser_count,\n",
    "    mc1.browser_count,\n",
    "    mc2.browser_count,\n",
    "    /*case\n",
    "        when mc2.browser_count is not null then mc1.browser_count := mc2.browser_count\n",
    "    end browser_count*/\n",
    "from mapped_cols mc1\n",
    "    join mapped_cols mc2\n",
    "        on mc1.user_id = mc2.user_id\n",
    "        and mc1.browser_count <> mc2.browser_count\n",
    "        and mc1.browser_count is not null)\n",
    "            \n",
    "select * from joined\n",
    " \"\"\").show()"
   ]
  },
  {
   "cell_type": "code",
   "execution_count": 122,
   "metadata": {},
   "outputs": [
    {
     "name": "stdout",
     "output_type": "stream",
     "text": [
      "┌────────────────────────┬───────────────┬──────────────┬──────────────┐\n",
      "│        user_id         │ browser_type  │    dates     │ current_date │\n",
      "│        varchar         │    varchar    │    date[]    │     date     │\n",
      "├────────────────────────┼───────────────┼──────────────┼──────────────┤\n",
      "│ 2.149685481453258e+18  │ ) Bot         │ [2023-01-01] │ 2023-01-01   │\n",
      "│ 1.36472210049767e+19   │ AhrefsBot     │ [2023-01-01] │ 2023-01-01   │\n",
      "│ 2.0144825980926515e+18 │ AhrefsBot     │ [2023-01-01] │ 2023-01-01   │\n",
      "│ 2.794586222856017e+18  │ SemrushBot    │ [2023-01-01] │ 2023-01-01   │\n",
      "│ 1.53423419884343e+19   │ Googlebot     │ [2023-01-01] │ 2023-01-01   │\n",
      "│ 1.1834646844374e+19    │ Chrome        │ [2023-01-01] │ 2023-01-01   │\n",
      "│ 5.017882618361265e+18  │ Chrome        │ [2023-01-01] │ 2023-01-01   │\n",
      "│ 1.33940240807639e+19   │ Chrome        │ [2023-01-01] │ 2023-01-01   │\n",
      "│ 1.36508603897267e+19   │ Googlebot     │ [2023-01-01] │ 2023-01-01   │\n",
      "│ 1.4322833487723359e+18 │ bingbot       │ [2023-01-01] │ 2023-01-01   │\n",
      "│           ·            │   ·           │      ·       │     ·        │\n",
      "│           ·            │   ·           │      ·       │     ·        │\n",
      "│           ·            │   ·           │      ·       │     ·        │\n",
      "│ 5.804919602898318e+18  │ ) Bot         │ [2023-01-01] │ 2023-01-01   │\n",
      "│ 1.41130230182552e+19   │ Chrome Mobile │ [2023-01-01] │ 2023-01-01   │\n",
      "│ 1.41563860814292e+19   │ Chrome        │ [2023-01-01] │ 2023-01-01   │\n",
      "│ 9.380611640682044e+17  │ AhrefsBot     │ [2023-01-01] │ 2023-01-01   │\n",
      "│ 9.33017779244954e+18   │ ) Bot         │ [2023-01-01] │ 2023-01-01   │\n",
      "│ 1.32838776125935e+19   │ bingbot       │ [2023-01-01] │ 2023-01-01   │\n",
      "│ 1.44344694443508e+19   │ Googlebot     │ [2023-01-01] │ 2023-01-01   │\n",
      "│ 1.13556489564773e+19   │ Other         │ [2023-01-01] │ 2023-01-01   │\n",
      "│ 7.013254732021118e+16  │ ) Bot         │ [2023-01-01] │ 2023-01-01   │\n",
      "│ 5.641679155878286e+18  │ Googlebot     │ [2023-01-01] │ 2023-01-01   │\n",
      "├────────────────────────┴───────────────┴──────────────┴──────────────┤\n",
      "│ 86 rows (20 shown)                                         4 columns │\n",
      "└──────────────────────────────────────────────────────────────────────┘\n",
      "\n"
     ]
    }
   ],
   "source": [
    "with duckdb.connect('events.db') as con:\n",
    "    con.sql(\"drop table if exists user_devices_cumulated\")\n",
    "    con.sql(\"create table user_devices_cumulated (user_id text, browser_type text, dates date[], current_date date)\")\n",
    "    con.sql(\"\"\"\n",
    "with today_dupe as (\n",
    "select\n",
    "    e.user_id,\n",
    "    d.device_id,\n",
    "    d.browser_type,\n",
    "    row_number() over (partition by e.user_id, d.device_id) rn\n",
    "from events e\n",
    "    left join devices d \n",
    "        on d.device_id = e.device_id\n",
    "where\n",
    "    user_id is not null\n",
    "            and event_time::date = '2023/1/1/'),\n",
    "today as (\n",
    "select\n",
    "    *\n",
    "from today_dupe\n",
    "where\n",
    "    rn = 1), mapped_cols as (\n",
    "select\n",
    "    user_id,\n",
    "    browser_type,\n",
    "    ['2023/1/1'::date] as date,\n",
    "    '2023/1/1'::date current_date\n",
    "from today\n",
    "where\n",
    "    browser_type is not null),\n",
    "yesterday as (\n",
    "select\n",
    "    *\n",
    "from user_devices_cumulated\n",
    "where\n",
    "    current_date = current_date\n",
    "            ),\n",
    "historical as (\n",
    "select\n",
    "    *\n",
    "from yesterday y\n",
    "where\n",
    "    not exists (select * from mapped_cols mc where mc.user_id = y.user_id and mc.browser_type = y.browser_type)),\n",
    "new as (\n",
    "select\n",
    "    *\n",
    "from mapped_cols mc\n",
    "where\n",
    "    not exists (select * from yesterday y where mc.user_id = y.user_id and mc.browser_type = y.browser_type)),\n",
    "updated as (\n",
    "select\n",
    "    user_id,\n",
    "    browser_type,\n",
    "    dates || ['2023/1/1'::Date],\n",
    "    '2023/1/1'::Date current_date\n",
    "from yesterday y\n",
    "where\n",
    "    exists (select * from mapped_cols mc where mc.user_id = y.user_id and mc.browser_type = y.browser_type))\n",
    "            \n",
    "                   \n",
    "select * from historical\n",
    "union all\n",
    "select * from new\n",
    "union all\n",
    "select * from updated\n",
    " \"\"\").show()"
   ]
  },
  {
   "cell_type": "code",
   "execution_count": 132,
   "metadata": {},
   "outputs": [
    {
     "data": {
      "text/plain": [
       "2024"
      ]
     },
     "execution_count": 132,
     "metadata": {},
     "output_type": "execute_result"
    }
   ],
   "source": [
    "int('2024/11/23'.split('/')[0])"
   ]
  },
  {
   "cell_type": "code",
   "execution_count": 136,
   "metadata": {},
   "outputs": [],
   "source": [
    "def load_browser_dates(date: datetime.date) -> None:    \n",
    "    if isinstance(date, str):\n",
    "        date_list = date.split('/')\n",
    "        date = datetime.date(int(date_list[0]), int(date_list[1]), int(date_list[2]))\n",
    "    with duckdb.connect('events.db') as con:\n",
    "        con.sql(f\"\"\"\n",
    "    with today_dupe as (\n",
    "    select\n",
    "        e.user_id,\n",
    "        d.device_id,\n",
    "        d.browser_type,\n",
    "        row_number() over (partition by e.user_id, d.device_id) rn\n",
    "    from events e\n",
    "        left join devices d \n",
    "            on d.device_id = e.device_id\n",
    "    where\n",
    "        user_id is not null\n",
    "                and event_time::date = {date}),\n",
    "    today as (\n",
    "    select\n",
    "        *\n",
    "    from today_dupe\n",
    "    where\n",
    "        rn = 1), mapped_cols as (\n",
    "    select\n",
    "        user_id,\n",
    "        browser_type,\n",
    "        ['{date}'::date] as date,\n",
    "        '{date}'::date current_date\n",
    "    from today\n",
    "    where\n",
    "        browser_type is not null),\n",
    "    yesterday as (\n",
    "    select\n",
    "        *\n",
    "    from user_devices_cumulated\n",
    "    where\n",
    "        current_date = '{date} interval -1'\n",
    "                ),\n",
    "    historical as (\n",
    "    select\n",
    "        *\n",
    "    from yesterday y\n",
    "    where\n",
    "        not exists (select * from mapped_cols mc where mc.user_id = y.user_id and mc.browser_type = y.browser_type)),\n",
    "    new as (\n",
    "    select\n",
    "        *\n",
    "    from mapped_cols mc\n",
    "    where\n",
    "        not exists (select * from yesterday y where mc.user_id = y.user_id and mc.browser_type = y.browser_type)),\n",
    "    updated as (\n",
    "    select\n",
    "        user_id,\n",
    "        browser_type,\n",
    "        dates || ['{date}'::Date],\n",
    "        '{date}'::Date current_date\n",
    "    from yesterday y\n",
    "    where\n",
    "        exists (select * from mapped_cols mc where mc.user_id = y.user_id and mc.browser_type = y.browser_type))\n",
    "                \n",
    "                    \n",
    "    select * from historical\n",
    "    union all\n",
    "    select * from new\n",
    "    union all\n",
    "    select * from updated\n",
    "    \"\"\")\n",
    "        \n",
    "load_browser_dates('2023/1/2')"
   ]
  },
  {
   "cell_type": "code",
   "execution_count": 230,
   "metadata": {},
   "outputs": [],
   "source": [
    "with duckdb.connect('events.db') as con:\n",
    "    con.sql(\"drop table if exists date_list_int\")\n",
    "    con.sql(\"create table date_list_int (host text, date_list_int integer[])\")"
   ]
  },
  {
   "cell_type": "code",
   "execution_count": 231,
   "metadata": {},
   "outputs": [
    {
     "ename": "ParserException",
     "evalue": "Parser Error: syntax error at or near \"[\"",
     "output_type": "error",
     "traceback": [
      "\u001b[0;31m---------------------------------------------------------------------------\u001b[0m",
      "\u001b[0;31mParserException\u001b[0m                           Traceback (most recent call last)",
      "Cell \u001b[0;32mIn[231], line 29\u001b[0m\n\u001b[1;32m      6\u001b[0m     \u001b[38;5;28;01mwith\u001b[39;00m duckdb\u001b[38;5;241m.\u001b[39mconnect(\u001b[38;5;124m'\u001b[39m\u001b[38;5;124mevents.db\u001b[39m\u001b[38;5;124m'\u001b[39m) \u001b[38;5;28;01mas\u001b[39;00m con:\n\u001b[1;32m      7\u001b[0m         con\u001b[38;5;241m.\u001b[39msql(\u001b[38;5;124mf\u001b[39m\u001b[38;5;124m\"\"\"\u001b[39m\n\u001b[1;32m      8\u001b[0m \u001b[38;5;124m                insert into date_list_int\u001b[39m\n\u001b[1;32m      9\u001b[0m \u001b[38;5;124m                with today as (\u001b[39m\n\u001b[0;32m   (...)\u001b[0m\n\u001b[1;32m     26\u001b[0m \u001b[38;5;124m                        on t.host = dli.host\u001b[39m\n\u001b[1;32m     27\u001b[0m \u001b[38;5;124m                \u001b[39m\u001b[38;5;124m\"\"\"\u001b[39m)\n\u001b[0;32m---> 29\u001b[0m \u001b[43mload_date_list\u001b[49m\u001b[43m(\u001b[49m\u001b[38;5;124;43m'\u001b[39;49m\u001b[38;5;124;43m2023/1/1\u001b[39;49m\u001b[38;5;124;43m'\u001b[39;49m\u001b[43m)\u001b[49m\n",
      "Cell \u001b[0;32mIn[231], line 6\u001b[0m, in \u001b[0;36mload_date_list\u001b[0;34m(date)\u001b[0m\n\u001b[1;32m      4\u001b[0m     date \u001b[38;5;241m=\u001b[39m datetime\u001b[38;5;241m.\u001b[39mdate(\u001b[38;5;28mint\u001b[39m(date_split[\u001b[38;5;241m0\u001b[39m]), \u001b[38;5;28mint\u001b[39m(date_split[\u001b[38;5;241m1\u001b[39m]), \u001b[38;5;28mint\u001b[39m(date_split[\u001b[38;5;241m2\u001b[39m]))\n\u001b[1;32m      5\u001b[0m first_month \u001b[38;5;241m=\u001b[39m date\u001b[38;5;241m.\u001b[39mreplace(day\u001b[38;5;241m=\u001b[39m\u001b[38;5;241m1\u001b[39m)\n\u001b[0;32m----> 6\u001b[0m \u001b[38;5;28;01mwith\u001b[39;00m duckdb\u001b[38;5;241m.\u001b[39mconnect(\u001b[38;5;124m'\u001b[39m\u001b[38;5;124mevents.db\u001b[39m\u001b[38;5;124m'\u001b[39m) \u001b[38;5;28;01mas\u001b[39;00m con:\n\u001b[1;32m      7\u001b[0m     con\u001b[38;5;241m.\u001b[39msql(\u001b[38;5;124mf\u001b[39m\u001b[38;5;124m\"\"\"\u001b[39m\n\u001b[1;32m      8\u001b[0m \u001b[38;5;124m            insert into date_list_int\u001b[39m\n\u001b[1;32m      9\u001b[0m \u001b[38;5;124m            with today as (\u001b[39m\n\u001b[0;32m   (...)\u001b[0m\n\u001b[1;32m     26\u001b[0m \u001b[38;5;124m                    on t.host = dli.host\u001b[39m\n\u001b[1;32m     27\u001b[0m \u001b[38;5;124m            \u001b[39m\u001b[38;5;124m\"\"\"\u001b[39m)\n",
      "Cell \u001b[0;32mIn[231], line 7\u001b[0m, in \u001b[0;36mload_date_list\u001b[0;34m(date)\u001b[0m\n\u001b[1;32m      5\u001b[0m first_month \u001b[38;5;241m=\u001b[39m date\u001b[38;5;241m.\u001b[39mreplace(day\u001b[38;5;241m=\u001b[39m\u001b[38;5;241m1\u001b[39m)\n\u001b[1;32m      6\u001b[0m \u001b[38;5;28;01mwith\u001b[39;00m duckdb\u001b[38;5;241m.\u001b[39mconnect(\u001b[38;5;124m'\u001b[39m\u001b[38;5;124mevents.db\u001b[39m\u001b[38;5;124m'\u001b[39m) \u001b[38;5;28;01mas\u001b[39;00m con:\n\u001b[0;32m----> 7\u001b[0m     \u001b[43mcon\u001b[49m\u001b[38;5;241;43m.\u001b[39;49m\u001b[43msql\u001b[49m\u001b[43m(\u001b[49m\u001b[38;5;124;43mf\u001b[39;49m\u001b[38;5;124;43m\"\"\"\u001b[39;49m\n\u001b[1;32m      8\u001b[0m \u001b[38;5;124;43m            insert into date_list_int\u001b[39;49m\n\u001b[1;32m      9\u001b[0m \u001b[38;5;124;43m            with today as (\u001b[39;49m\n\u001b[1;32m     10\u001b[0m \u001b[38;5;124;43m            select \u001b[39;49m\n\u001b[1;32m     11\u001b[0m \u001b[38;5;124;43m                distinct host\u001b[39;49m\n\u001b[1;32m     12\u001b[0m \u001b[38;5;124;43m            from events\u001b[39;49m\n\u001b[1;32m     13\u001b[0m \u001b[38;5;124;43m            where\u001b[39;49m\n\u001b[1;32m     14\u001b[0m \u001b[38;5;124;43m                event_time::date = \u001b[39;49m\u001b[38;5;124;43m'\u001b[39;49m\u001b[38;5;132;43;01m{\u001b[39;49;00m\u001b[43mdate\u001b[49m\u001b[38;5;132;43;01m}\u001b[39;49;00m\u001b[38;5;124;43m'\u001b[39;49m\u001b[38;5;124;43m)\u001b[39;49m\n\u001b[1;32m     15\u001b[0m \u001b[38;5;124;43m            \u001b[39;49m\n\u001b[1;32m     16\u001b[0m \u001b[38;5;124;43m            select\u001b[39;49m\n\u001b[1;32m     17\u001b[0m \u001b[38;5;124;43m                t.host,\u001b[39;49m\n\u001b[1;32m     18\u001b[0m \u001b[38;5;124;43m                case\u001b[39;49m\n\u001b[1;32m     19\u001b[0m \u001b[38;5;124;43m                    when t.host is null and dli.host is not null then dli.date_list_int || [1]\u001b[39;49m\n\u001b[1;32m     20\u001b[0m \u001b[38;5;124;43m                    when dli.host is null then ARRAY(\u001b[39;49m\u001b[38;5;132;43;01m{\u001b[39;49;00m\u001b[43m[\u001b[49m\u001b[38;5;241;43m0\u001b[39;49m\u001b[38;5;250;43m \u001b[39;49m\u001b[38;5;28;43;01mfor\u001b[39;49;00m\u001b[38;5;250;43m \u001b[39;49m\u001b[43mi\u001b[49m\u001b[38;5;250;43m \u001b[39;49m\u001b[38;5;129;43;01min\u001b[39;49;00m\u001b[38;5;250;43m \u001b[39;49m\u001b[38;5;28;43mrange\u001b[39;49m\u001b[43m(\u001b[49m\u001b[38;5;28;43mabs\u001b[39;49m\u001b[43m(\u001b[49m\u001b[43m(\u001b[49m\u001b[43mdate\u001b[49m\u001b[38;5;250;43m \u001b[39;49m\u001b[38;5;241;43m-\u001b[39;49m\u001b[43mfirst_month\u001b[49m\u001b[43m)\u001b[49m\u001b[38;5;241;43m.\u001b[39;49m\u001b[43mdays\u001b[49m\u001b[43m)\u001b[49m\u001b[43m)\u001b[49m\u001b[43m]\u001b[49m\u001b[38;5;132;43;01m}\u001b[39;49;00m\u001b[38;5;124;43m) || [1]\u001b[39;49m\n\u001b[1;32m     21\u001b[0m \u001b[38;5;124;43m                    when t.host is not null then dli.date_list_int || [1]\u001b[39;49m\n\u001b[1;32m     22\u001b[0m \u001b[38;5;124;43m                    else [1]\u001b[39;49m\n\u001b[1;32m     23\u001b[0m \u001b[38;5;124;43m                end as date_list_int\u001b[39;49m\n\u001b[1;32m     24\u001b[0m \u001b[38;5;124;43m            from today t\u001b[39;49m\n\u001b[1;32m     25\u001b[0m \u001b[38;5;124;43m                full outer join date_list_int dli\u001b[39;49m\n\u001b[1;32m     26\u001b[0m \u001b[38;5;124;43m                    on t.host = dli.host\u001b[39;49m\n\u001b[1;32m     27\u001b[0m \u001b[38;5;124;43m            \u001b[39;49m\u001b[38;5;124;43m\"\"\"\u001b[39;49m\u001b[43m)\u001b[49m\n",
      "\u001b[0;31mParserException\u001b[0m: Parser Error: syntax error at or near \"[\""
     ]
    }
   ],
   "source": [
    "def load_date_list(date: datetime.date) -> None:\n",
    "    if isinstance(date, str):\n",
    "        date_split = date.split('/')\n",
    "        date = datetime.date(int(date_split[0]), int(date_split[1]), int(date_split[2]))\n",
    "    first_month = date.replace(day=1)\n",
    "    with duckdb.connect('events.db') as con:\n",
    "        con.sql(f\"\"\"\n",
    "                insert into date_list_int\n",
    "                with today as (\n",
    "                select \n",
    "                    distinct host\n",
    "                from events\n",
    "                where\n",
    "                    event_time::date = '{date}')\n",
    "                \n",
    "                select\n",
    "                    t.host,\n",
    "                    case\n",
    "                        when t.host is null and dli.host is not null then dli.date_list_int || [1]\n",
    "                        when dli.host is null then ARRAY({[0 for i in range(abs((date -first_month).days))]}) || [1]\n",
    "                        when t.host is not null then dli.date_list_int || [1]\n",
    "                        else [1]\n",
    "                    end as date_list_int\n",
    "                from today t\n",
    "                    full outer join date_list_int dli\n",
    "                        on t.host = dli.host\n",
    "                \"\"\")\n",
    "        \n",
    "load_date_list('2023/1/1')"
   ]
  },
  {
   "cell_type": "code",
   "execution_count": 232,
   "metadata": {},
   "outputs": [
    {
     "name": "stdout",
     "output_type": "stream",
     "text": [
      "┌─────────┬───────────────┐\n",
      "│  host   │ date_list_int │\n",
      "│ varchar │    int32[]    │\n",
      "├─────────┴───────────────┤\n",
      "│         0 rows          │\n",
      "└─────────────────────────┘\n",
      "\n"
     ]
    }
   ],
   "source": [
    "with duckdb.connect('events.db') as con:\n",
    "    con.sql(\"\"\"\n",
    "            select \n",
    "                * \n",
    "            from date_list_int\n",
    "            \"\"\").show()"
   ]
  },
  {
   "cell_type": "code",
   "execution_count": null,
   "metadata": {},
   "outputs": [
    {
     "data": {
      "text/plain": [
       "'[0, 0, 0]'"
      ]
     },
     "execution_count": 213,
     "metadata": {},
     "output_type": "execute_result"
    }
   ],
   "source": []
  },
  {
   "cell_type": "code",
   "execution_count": null,
   "metadata": {},
   "outputs": [],
   "source": []
  }
 ],
 "metadata": {
  "kernelspec": {
   "display_name": ".venv",
   "language": "python",
   "name": "python3"
  },
  "language_info": {
   "codemirror_mode": {
    "name": "ipython",
    "version": 3
   },
   "file_extension": ".py",
   "mimetype": "text/x-python",
   "name": "python",
   "nbconvert_exporter": "python",
   "pygments_lexer": "ipython3",
   "version": "3.10.12"
  }
 },
 "nbformat": 4,
 "nbformat_minor": 2
}
